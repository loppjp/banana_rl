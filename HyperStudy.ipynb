{
 "cells": [
  {
   "cell_type": "code",
   "execution_count": 1,
   "id": "2d0e30e7",
   "metadata": {},
   "outputs": [],
   "source": [
    "from train import outer_loop"
   ]
  },
  {
   "cell_type": "code",
   "execution_count": 2,
   "id": "d8e2ffbc",
   "metadata": {},
   "outputs": [],
   "source": [
    "def get_params():\n",
    "    return {\n",
    "        \"REPLAY_BUFFER_SIZE\": int(1e5),\n",
    "        \"BATCH_SIZE\": 64,\n",
    "        \"GAMMA\": 0.95,\n",
    "        \"TAU\": 1e-2,\n",
    "        \"LEARNING_RATE\": 1e-3,\n",
    "        \"UPDATE_TARGET_NET_STEPS\": 4,\n",
    "        \"SEED\": int(1234),\n",
    "    }"
   ]
  },
  {
   "cell_type": "code",
   "execution_count": 3,
   "id": "63d81921",
   "metadata": {},
   "outputs": [],
   "source": [
    "study = {}\n",
    "\n",
    "param = \"GAMMA\"\n",
    "param_range = [0.9, 0.925, 0.95, 0.975, 0.995]\n",
    "study[param] = param_range\n",
    "\n",
    "param = \"TAU\"\n",
    "param_range = [1e-1, 0.5e-1, 1e-2, 0.5e-2, 1e-3, 0.5e-3]\n",
    "study[param] = param_range\n",
    "\n",
    "param = \"LEARNING_RATE\"\n",
    "param_range = [0.5e-2, 1e-3, 0.5e-3, 1e-4, 0.5e-4, 1e-5]\n",
    "study[param] = param_range"
   ]
  },
  {
   "cell_type": "code",
   "execution_count": null,
   "id": "a4f3c3fc",
   "metadata": {},
   "outputs": [
    {
     "name": "stdout",
     "output_type": "stream",
     "text": [
      "studying variable: GAMMA\n",
      "studying parameter: 0.9\n",
      "training params: {'REPLAY_BUFFER_SIZE': 100000, 'BATCH_SIZE': 64, 'GAMMA': 0.9, 'TAU': 0.01, 'LEARNING_RATE': 0.001, 'UPDATE_TARGET_NET_STEPS': 4, 'SEED': 1234}\n"
     ]
    },
    {
     "name": "stderr",
     "output_type": "stream",
     "text": [
      "INFO:unityagents:\n",
      "'Academy' started successfully!\n",
      "Unity Academy name: Academy\n",
      "        Number of Brains: 1\n",
      "        Number of External Brains : 1\n",
      "        Lesson number : 0\n",
      "        Reset Parameters :\n",
      "\t\t\n",
      "Unity brain name: BananaBrain\n",
      "        Number of Visual Observations (per agent): 0\n",
      "        Vector Observation space type: continuous\n",
      "        Vector Observation space size (per agent): 37\n",
      "        Number of stacked Vector Observation: 1\n",
      "        Vector Action space type: discrete\n",
      "        Vector Action space size (per agent): 4\n",
      "        Vector Action descriptions: , , , \n"
     ]
    },
    {
     "name": "stdout",
     "output_type": "stream",
     "text": [
      "train\n",
      "Episode 280\tAverage Score: 6.53\tMax Score: 13.00\teps: 0.28\r"
     ]
    }
   ],
   "source": [
    "for s in study:\n",
    "    \n",
    "    # reset parameters\n",
    "    training_params = get_params()\n",
    "    \n",
    "    print(f\"studying variable: {s}\")\n",
    "    \n",
    "    for idx, param in enumerate(study[s]):\n",
    "        \n",
    "        print(f\"studying parameter: {param}\")\n",
    "\n",
    "        training_params[s] = param\n",
    "        \n",
    "        print(f\"training params: {training_params}\")\n",
    "        \n",
    "        str_param = str(param).replace('.', '_')\n",
    "\n",
    "        outer_loop(training_params=training_params, model_name=f'model_{s}_{str_param}')"
   ]
  },
  {
   "cell_type": "code",
   "execution_count": null,
   "id": "d6eea113",
   "metadata": {},
   "outputs": [],
   "source": []
  }
 ],
 "metadata": {
  "kernelspec": {
   "display_name": "Python 3",
   "language": "python",
   "name": "python3"
  },
  "language_info": {
   "codemirror_mode": {
    "name": "ipython",
    "version": 3
   },
   "file_extension": ".py",
   "mimetype": "text/x-python",
   "name": "python",
   "nbconvert_exporter": "python",
   "pygments_lexer": "ipython3",
   "version": "3.6.9"
  }
 },
 "nbformat": 4,
 "nbformat_minor": 5
}
