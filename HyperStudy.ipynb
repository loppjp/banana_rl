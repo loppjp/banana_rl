{
 "cells": [
  {
   "cell_type": "markdown",
   "id": "0be24b5a",
   "metadata": {},
   "source": [
    "# Hyperparameter Sensitivity Study\n",
    "\n",
    "Look at the hyper parameters gamma, tau, and learning rate over a few variations. How does the number of episodes to solve the task vary as those parameters vary. Study each hyperparameter independently, changing only that one particular value."
   ]
  },
  {
   "cell_type": "code",
   "execution_count": 1,
   "id": "ec585f41",
   "metadata": {},
   "outputs": [],
   "source": [
    "from train import outer_loop\n",
    "import multiprocessing"
   ]
  },
  {
   "cell_type": "code",
   "execution_count": 2,
   "id": "8b719055",
   "metadata": {},
   "outputs": [],
   "source": [
    "def get_params():\n",
    "    return {\n",
    "        \"REPLAY_BUFFER_SIZE\": int(1e5),\n",
    "        \"BATCH_SIZE\": 64,\n",
    "        \"GAMMA\": 0.95,\n",
    "        \"TAU\": 1e-2,\n",
    "        \"LEARNING_RATE\": 1e-3,\n",
    "        \"UPDATE_TARGET_NET_STEPS\": 4,\n",
    "        \"SEED\": int(1234),\n",
    "        \"MODE\": \"TRAIN\"\n",
    "    }"
   ]
  },
  {
   "cell_type": "code",
   "execution_count": 3,
   "id": "e295cc97",
   "metadata": {},
   "outputs": [],
   "source": [
    "study = {}\n",
    "\n",
    "param = \"GAMMA\"\n",
    "param_range = [0.9, 0.925, 0.95, 0.975, 0.995]\n",
    "study[param] = param_range\n",
    "\n",
    "param = \"TAU\"\n",
    "param_range = [1e-1, 0.5e-1, 1e-2, 0.5e-2, 1e-3, 0.5e-3]\n",
    "study[param] = param_range\n",
    "\n",
    "param = \"LEARNING_RATE\"\n",
    "param_range = [0.5e-2, 1e-3, 0.5e-3, 1e-4, 0.5e-4, 1e-5]\n",
    "study[param] = param_range"
   ]
  },
  {
   "cell_type": "code",
   "execution_count": 4,
   "id": "f81e4433",
   "metadata": {},
   "outputs": [
    {
     "name": "stdout",
     "output_type": "stream",
     "text": [
      "studying variable: GAMMA\n",
      "studying parameter: 0.9\n",
      "training params: {'REPLAY_BUFFER_SIZE': 100000, 'BATCH_SIZE': 64, 'GAMMA': 0.9, 'TAU': 0.01, 'LEARNING_RATE': 0.001, 'UPDATE_TARGET_NET_STEPS': 4, 'SEED': 1234}\n",
      "studying parameter: 0.925\n",
      "training params: {'REPLAY_BUFFER_SIZE': 100000, 'BATCH_SIZE': 64, 'GAMMA': 0.925, 'TAU': 0.01, 'LEARNING_RATE': 0.001, 'UPDATE_TARGET_NET_STEPS': 4, 'SEED': 1234}\n",
      "studying parameter: 0.95\n",
      "training params: {'REPLAY_BUFFER_SIZE': 100000, 'BATCH_SIZE': 64, 'GAMMA': 0.95, 'TAU': 0.01, 'LEARNING_RATE': 0.001, 'UPDATE_TARGET_NET_STEPS': 4, 'SEED': 1234}\n",
      "studying parameter: 0.975\n",
      "training params: {'REPLAY_BUFFER_SIZE': 100000, 'BATCH_SIZE': 64, 'GAMMA': 0.975, 'TAU': 0.01, 'LEARNING_RATE': 0.001, 'UPDATE_TARGET_NET_STEPS': 4, 'SEED': 1234}\n",
      "studying parameter: 0.995\n",
      "training params: {'REPLAY_BUFFER_SIZE': 100000, 'BATCH_SIZE': 64, 'GAMMA': 0.995, 'TAU': 0.01, 'LEARNING_RATE': 0.001, 'UPDATE_TARGET_NET_STEPS': 4, 'SEED': 1234}\n",
      "studying variable: TAU\n",
      "studying parameter: 0.1\n",
      "training params: {'REPLAY_BUFFER_SIZE': 100000, 'BATCH_SIZE': 64, 'GAMMA': 0.95, 'TAU': 0.1, 'LEARNING_RATE': 0.001, 'UPDATE_TARGET_NET_STEPS': 4, 'SEED': 1234}\n",
      "studying parameter: 0.05\n",
      "training params: {'REPLAY_BUFFER_SIZE': 100000, 'BATCH_SIZE': 64, 'GAMMA': 0.95, 'TAU': 0.05, 'LEARNING_RATE': 0.001, 'UPDATE_TARGET_NET_STEPS': 4, 'SEED': 1234}\n",
      "studying parameter: 0.01\n",
      "training params: {'REPLAY_BUFFER_SIZE': 100000, 'BATCH_SIZE': 64, 'GAMMA': 0.95, 'TAU': 0.01, 'LEARNING_RATE': 0.001, 'UPDATE_TARGET_NET_STEPS': 4, 'SEED': 1234}\n",
      "studying parameter: 0.005\n",
      "training params: {'REPLAY_BUFFER_SIZE': 100000, 'BATCH_SIZE': 64, 'GAMMA': 0.95, 'TAU': 0.005, 'LEARNING_RATE': 0.001, 'UPDATE_TARGET_NET_STEPS': 4, 'SEED': 1234}\n",
      "studying parameter: 0.001\n",
      "training params: {'REPLAY_BUFFER_SIZE': 100000, 'BATCH_SIZE': 64, 'GAMMA': 0.95, 'TAU': 0.001, 'LEARNING_RATE': 0.001, 'UPDATE_TARGET_NET_STEPS': 4, 'SEED': 1234}\n",
      "studying parameter: 0.0005\n",
      "training params: {'REPLAY_BUFFER_SIZE': 100000, 'BATCH_SIZE': 64, 'GAMMA': 0.95, 'TAU': 0.0005, 'LEARNING_RATE': 0.001, 'UPDATE_TARGET_NET_STEPS': 4, 'SEED': 1234}\n",
      "studying variable: LEARNING_RATE\n",
      "studying parameter: 0.005\n",
      "training params: {'REPLAY_BUFFER_SIZE': 100000, 'BATCH_SIZE': 64, 'GAMMA': 0.95, 'TAU': 0.01, 'LEARNING_RATE': 0.005, 'UPDATE_TARGET_NET_STEPS': 4, 'SEED': 1234}\n",
      "studying parameter: 0.001\n",
      "training params: {'REPLAY_BUFFER_SIZE': 100000, 'BATCH_SIZE': 64, 'GAMMA': 0.95, 'TAU': 0.01, 'LEARNING_RATE': 0.001, 'UPDATE_TARGET_NET_STEPS': 4, 'SEED': 1234}\n",
      "studying parameter: 0.0005\n",
      "training params: {'REPLAY_BUFFER_SIZE': 100000, 'BATCH_SIZE': 64, 'GAMMA': 0.95, 'TAU': 0.01, 'LEARNING_RATE': 0.0005, 'UPDATE_TARGET_NET_STEPS': 4, 'SEED': 1234}\n",
      "studying parameter: 0.0001\n",
      "training params: {'REPLAY_BUFFER_SIZE': 100000, 'BATCH_SIZE': 64, 'GAMMA': 0.95, 'TAU': 0.01, 'LEARNING_RATE': 0.0001, 'UPDATE_TARGET_NET_STEPS': 4, 'SEED': 1234}\n",
      "studying parameter: 5e-05\n",
      "training params: {'REPLAY_BUFFER_SIZE': 100000, 'BATCH_SIZE': 64, 'GAMMA': 0.95, 'TAU': 0.01, 'LEARNING_RATE': 5e-05, 'UPDATE_TARGET_NET_STEPS': 4, 'SEED': 1234}\n",
      "studying parameter: 1e-05\n",
      "training params: {'REPLAY_BUFFER_SIZE': 100000, 'BATCH_SIZE': 64, 'GAMMA': 0.95, 'TAU': 0.01, 'LEARNING_RATE': 1e-05, 'UPDATE_TARGET_NET_STEPS': 4, 'SEED': 1234}\n"
     ]
    }
   ],
   "source": [
    "multiprocessing.set_start_method('spawn')\n",
    "\n",
    "for s in study:\n",
    "    \n",
    "    # reset parameters\n",
    "    training_params = get_params()\n",
    "    \n",
    "    print(f\"studying variable: {s}\")\n",
    "    \n",
    "    for idx, param in enumerate(study[s]):\n",
    "        \n",
    "        print(f\"studying parameter: {param}\")\n",
    "\n",
    "        training_params[s] = param\n",
    "        \n",
    "        print(f\"training params: {training_params}\")\n",
    "        \n",
    "        str_param = str(param).replace('.', '_')\n",
    "        \n",
    "        p = multiprocessing.Process(\n",
    "            target=outer_loop,\n",
    "            kwargs={\n",
    "                'training_params':training_params,\n",
    "                'model_name':f'model_{s}_{str_param}'\n",
    "            }\n",
    "        )\n",
    "        \n",
    "        p.start()\n",
    "        p.join()\n",
    "\n",
    "        #outer_loop(training_params=training_params, model_name=f'model_{s}_{str_param}')"
   ]
  },
  {
   "cell_type": "code",
   "execution_count": 27,
   "id": "490c5558",
   "metadata": {},
   "outputs": [],
   "source": [
    "import json\n",
    "import glob\n",
    "import matplotlib.pyplot as plt"
   ]
  },
  {
   "cell_type": "code",
   "execution_count": 15,
   "id": "5a8384bd",
   "metadata": {},
   "outputs": [],
   "source": [
    "def load_json_study_output(glob_str):\n",
    "    with open(glob.glob(glob_str)[0], 'r') as f:\n",
    "        return json.loads(f.read())"
   ]
  },
  {
   "cell_type": "markdown",
   "id": "bf7fbd1d",
   "metadata": {},
   "source": [
    "## GAMMA"
   ]
  },
  {
   "cell_type": "code",
   "execution_count": 16,
   "id": "734616c1",
   "metadata": {},
   "outputs": [],
   "source": [
    "gamma_data = [\n",
    "    load_json_study_output(\"model_GAMMA_0_9_*.json\"),\n",
    "    load_json_study_output(\"model_GAMMA_0_925_*.json\"),\n",
    "    load_json_study_output(\"model_GAMMA_0_95_*.json\"),\n",
    "    load_json_study_output(\"model_GAMMA_0_975_*.json\"),\n",
    "    load_json_study_output(\"model_GAMMA_0_995_*.json\"),\n",
    "]"
   ]
  },
  {
   "cell_type": "code",
   "execution_count": 20,
   "id": "2ec6e248",
   "metadata": {},
   "outputs": [],
   "source": [
    "gamma_episodes_to_complete = [gd[\"episodes\"] for gd in gamma_data]"
   ]
  },
  {
   "cell_type": "code",
   "execution_count": 28,
   "id": "79b36838",
   "metadata": {},
   "outputs": [
    {
     "data": {
      "image/png": "[encoded data removed]",
      "text/plain": [
       "<Figure size 432x288 with 1 Axes>"
      ]
     },
     "metadata": {
      "needs_background": "light"
     },
     "output_type": "display_data"
    }
   ],
   "source": [
    "fig = plt.figure()\n",
    "ax = fig.add_subplot(111)\n",
    "plt.plot(study[\"GAMMA\"], gamma_episodes_to_complete)\n",
    "plt.ylabel('Episodes to Task Complete')\n",
    "plt.xlabel('gamma')\n",
    "plt.show()"
   ]
  },
  {
   "cell_type": "markdown",
   "id": "49c995a8",
   "metadata": {},
   "source": [
    "## TAU"
   ]
  },
  {
   "cell_type": "code",
   "execution_count": 30,
   "id": "7b6e3d08",
   "metadata": {},
   "outputs": [],
   "source": [
    "tau_data = [\n",
    "    load_json_study_output(\"model_TAU_0_0005_*.json\"),\n",
    "    load_json_study_output(\"model_TAU_0_001_*.json\"),\n",
    "    load_json_study_output(\"model_TAU_0_005_*.json\"),\n",
    "    load_json_study_output(\"model_TAU_0_01_*.json\"),\n",
    "    load_json_study_output(\"model_TAU_0_05_*.json\"),\n",
    "    load_json_study_output(\"model_TAU_0_1_*.json\"),\n",
    "]"
   ]
  },
  {
   "cell_type": "code",
   "execution_count": 34,
   "id": "af0ce3b5",
   "metadata": {},
   "outputs": [],
   "source": [
    "tau_episodes_to_complete = [td[\"episodes\"] for td in tau_data]"
   ]
  },
  {
   "cell_type": "code",
   "execution_count": 36,
   "id": "7f8b186a",
   "metadata": {},
   "outputs": [
    {
     "data": {
      "image/png": "[encoded data removed]",
      "text/plain": [
       "<Figure size 432x288 with 1 Axes>"
      ]
     },
     "metadata": {
      "needs_background": "light"
     },
     "output_type": "display_data"
    }
   ],
   "source": [
    "fig = plt.figure()\n",
    "ax = fig.add_subplot(111)\n",
    "plt.plot(study[\"TAU\"], tau_episodes_to_complete)\n",
    "plt.ylabel('Episodes to Task Complete')\n",
    "plt.xlabel('tau')\n",
    "plt.show()"
   ]
  },
  {
   "cell_type": "markdown",
   "id": "b6b5db51",
   "metadata": {},
   "source": [
    "## Learning Rate"
   ]
  },
  {
   "cell_type": "code",
   "execution_count": 59,
   "id": "d453ab9d",
   "metadata": {},
   "outputs": [],
   "source": [
    "lr_data = [\n",
    "    load_json_study_output(\"model_LEARNING_RATE_0_0001_*.json\"),\n",
    "    load_json_study_output(\"model_LEARNING_RATE_0_0005_*.json\"),\n",
    "    load_json_study_output(\"model_LEARNING_RATE_0_001_*.json\"),\n",
    "    load_json_study_output(\"model_LEARNING_RATE_0_005_*.json\"),\n",
    "    load_json_study_output(\"model_LEARNING_RATE_1e-05_*.json\"),\n",
    "    load_json_study_output(\"model_LEARNING_RATE_5e-05_*.json\"),\n",
    "]"
   ]
  },
  {
   "cell_type": "code",
   "execution_count": 60,
   "id": "47d6c9a9",
   "metadata": {},
   "outputs": [],
   "source": [
    "lr_episodes_to_complete = [lr[\"episodes\"] for lr in lr_data]"
   ]
  },
  {
   "cell_type": "code",
   "execution_count": 62,
   "id": "f0c2128f",
   "metadata": {},
   "outputs": [
    {
     "data": {
      "image/png": "[encoded data removed]",
      "text/plain": [
       "<Figure size 432x288 with 1 Axes>"
      ]
     },
     "metadata": {
      "needs_background": "light"
     },
     "output_type": "display_data"
    }
   ],
   "source": [
    "fig = plt.figure()\n",
    "ax = fig.add_subplot(111)\n",
    "plt.plot(study[\"LEARNING_RATE\"], lr_episodes_to_complete)\n",
    "plt.ylabel('Episodes to Task Complete')\n",
    "plt.xlabel('Learning Rate')\n",
    "plt.show()"
   ]
  }
 ],
 "metadata": {
  "kernelspec": {
   "display_name": "Python 3",
   "language": "python",
   "name": "python3"
  },
  "language_info": {
   "codemirror_mode": {
    "name": "ipython",
    "version": 3
   },
   "file_extension": ".py",
   "mimetype": "text/x-python",
   "name": "python",
   "nbconvert_exporter": "python",
   "pygments_lexer": "ipython3",
   "version": "3.6.9"
  }
 },
 "nbformat": 4,
 "nbformat_minor": 5
}
